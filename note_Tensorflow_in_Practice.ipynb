{
  "nbformat": 4,
  "nbformat_minor": 0,
  "metadata": {
    "kernelspec": {
      "display_name": "Python 3",
      "language": "python",
      "name": "python3"
    },
    "language_info": {
      "codemirror_mode": {
        "name": "ipython",
        "version": 3
      },
      "file_extension": ".py",
      "mimetype": "text/x-python",
      "name": "python",
      "nbconvert_exporter": "python",
      "pygments_lexer": "ipython3",
      "version": "3.7.3"
    },
    "colab": {
      "name": "note_Tensorflow_in_Practice.ipynb",
      "version": "0.3.2",
      "provenance": [],
      "include_colab_link": true
    }
  },
  "cells": [
    {
      "cell_type": "markdown",
      "metadata": {
        "id": "view-in-github",
        "colab_type": "text"
      },
      "source": [
        "<a href=\"https://colab.research.google.com/github/Hweemyoung/Tensorflow_in_Practice/blob/master/note_Tensorflow_in_Practice.ipynb\" target=\"_parent\"><img src=\"https://colab.research.google.com/assets/colab-badge.svg\" alt=\"Open In Colab\"/></a>"
      ]
    },
    {
      "cell_type": "code",
      "metadata": {
        "id": "TQiW7SK_QYHR",
        "colab_type": "code",
        "colab": {}
      },
      "source": [
        "import tensorflow as tf\n",
        "from tensorflow import keras"
      ],
      "execution_count": 0,
      "outputs": []
    },
    {
      "cell_type": "markdown",
      "metadata": {
        "id": "hMtwVBhrQYHX",
        "colab_type": "text"
      },
      "source": [
        "tf.keras.Sequential 순차적 레이어 모델"
      ]
    },
    {
      "cell_type": "code",
      "metadata": {
        "id": "Al0JjFJUQYHY",
        "colab_type": "code",
        "colab": {}
      },
      "source": [
        "#class 인스턴스\n",
        "model = tf.keras.Sequential()"
      ],
      "execution_count": 0,
      "outputs": []
    },
    {
      "cell_type": "code",
      "metadata": {
        "id": "1z7Dw1NPQYHc",
        "colab_type": "code",
        "colab": {},
        "outputId": "235923a1-9b17-49e8-bb5e-601d1851ba95"
      },
      "source": [
        "#메소드\n",
        "model.add #레이어 추가\n",
        "model.compile #(optimizer = 'Adam', loss = 'binary_crossentropy', metrics=['accuracy'])\n",
        "model.fit\n",
        "model.evaluate\n",
        "model.predict\n",
        "model.summary \n",
        "model.layers #returns list. 모델의 레이어 순차를 리스트로\n",
        "model.output #returns layer. output 레이어 반환\n",
        "model.input #returns layer. input 레이어 반환"
      ],
      "execution_count": 0,
      "outputs": [
        {
          "output_type": "error",
          "ename": "AttributeError",
          "evalue": "Layer sequential_1 has no inbound nodes.",
          "traceback": [
            "\u001b[1;31m---------------------------------------------------------------------------\u001b[0m",
            "\u001b[1;31mAttributeError\u001b[0m                            Traceback (most recent call last)",
            "\u001b[1;32m<ipython-input-4-3979f6752f6a>\u001b[0m in \u001b[0;36m<module>\u001b[1;34m\u001b[0m\n\u001b[0;32m      7\u001b[0m \u001b[0mmodel\u001b[0m\u001b[1;33m.\u001b[0m\u001b[0msummary\u001b[0m\u001b[1;33m\u001b[0m\u001b[1;33m\u001b[0m\u001b[0m\n\u001b[0;32m      8\u001b[0m \u001b[0mmodel\u001b[0m\u001b[1;33m.\u001b[0m\u001b[0mlayers\u001b[0m \u001b[1;31m#returns list. 모델의 레이어 순차를 리스트로\u001b[0m\u001b[1;33m\u001b[0m\u001b[1;33m\u001b[0m\u001b[0m\n\u001b[1;32m----> 9\u001b[1;33m \u001b[0mmodel\u001b[0m\u001b[1;33m.\u001b[0m\u001b[0moutput\u001b[0m \u001b[1;31m#returns layer. output 레이어 반환\u001b[0m\u001b[1;33m\u001b[0m\u001b[1;33m\u001b[0m\u001b[0m\n\u001b[0m\u001b[0;32m     10\u001b[0m \u001b[0mmodel\u001b[0m\u001b[1;33m.\u001b[0m\u001b[0minput\u001b[0m \u001b[1;31m#returns layer. input 레이어 반환\u001b[0m\u001b[1;33m\u001b[0m\u001b[1;33m\u001b[0m\u001b[0m\n",
            "\u001b[1;32m~\\Anaconda3\\lib\\site-packages\\tensorflow\\python\\keras\\engine\\base_layer.py\u001b[0m in \u001b[0;36moutput\u001b[1;34m(self)\u001b[0m\n\u001b[0;32m   1096\u001b[0m     \"\"\"\n\u001b[0;32m   1097\u001b[0m     \u001b[1;32mif\u001b[0m \u001b[1;32mnot\u001b[0m \u001b[0mself\u001b[0m\u001b[1;33m.\u001b[0m\u001b[0m_inbound_nodes\u001b[0m\u001b[1;33m:\u001b[0m\u001b[1;33m\u001b[0m\u001b[1;33m\u001b[0m\u001b[0m\n\u001b[1;32m-> 1098\u001b[1;33m       \u001b[1;32mraise\u001b[0m \u001b[0mAttributeError\u001b[0m\u001b[1;33m(\u001b[0m\u001b[1;34m'Layer '\u001b[0m \u001b[1;33m+\u001b[0m \u001b[0mself\u001b[0m\u001b[1;33m.\u001b[0m\u001b[0mname\u001b[0m \u001b[1;33m+\u001b[0m \u001b[1;34m' has no inbound nodes.'\u001b[0m\u001b[1;33m)\u001b[0m\u001b[1;33m\u001b[0m\u001b[1;33m\u001b[0m\u001b[0m\n\u001b[0m\u001b[0;32m   1099\u001b[0m     \u001b[1;32mreturn\u001b[0m \u001b[0mself\u001b[0m\u001b[1;33m.\u001b[0m\u001b[0m_get_node_attribute_at_index\u001b[0m\u001b[1;33m(\u001b[0m\u001b[1;36m0\u001b[0m\u001b[1;33m,\u001b[0m \u001b[1;34m'output_tensors'\u001b[0m\u001b[1;33m,\u001b[0m \u001b[1;34m'output'\u001b[0m\u001b[1;33m)\u001b[0m\u001b[1;33m\u001b[0m\u001b[1;33m\u001b[0m\u001b[0m\n\u001b[0;32m   1100\u001b[0m \u001b[1;33m\u001b[0m\u001b[0m\n",
            "\u001b[1;31mAttributeError\u001b[0m: Layer sequential_1 has no inbound nodes."
          ]
        }
      ]
    },
    {
      "cell_type": "markdown",
      "metadata": {
        "id": "TD1hn2N4QYHi",
        "colab_type": "text"
      },
      "source": [
        "tf.keras.callbacks.Callback #Callback 클래스 인스턴스"
      ]
    },
    {
      "cell_type": "code",
      "metadata": {
        "id": "0BLuAf8DQYHj",
        "colab_type": "code",
        "colab": {}
      },
      "source": [
        "class mycallback(keras.callbacks.Callback):\n",
        "    def on_epoch_end(self, epoch, logs={}):\n",
        "        if logs.get('acc') > .99:\n",
        "            self.model.stop_training = True"
      ],
      "execution_count": 0,
      "outputs": []
    },
    {
      "cell_type": "code",
      "metadata": {
        "id": "yyBVlJ_hQYHn",
        "colab_type": "code",
        "colab": {}
      },
      "source": [
        "callbacks = mycallback()"
      ],
      "execution_count": 0,
      "outputs": []
    },
    {
      "cell_type": "markdown",
      "metadata": {
        "id": "hH05PeYzQYHr",
        "colab_type": "text"
      },
      "source": [
        "tf.keras.layers #layer"
      ]
    },
    {
      "cell_type": "code",
      "metadata": {
        "id": "Z6qyskNIQYHs",
        "colab_type": "code",
        "colab": {},
        "outputId": "ed8efe92-b79f-4e49-eb2a-57c16fe859fa"
      },
      "source": [
        "keras.layers.Conv2D\n",
        "keras.layers.MaxPool2D\n",
        "keras.layers.Dense\n",
        "keras.layers.Flatten"
      ],
      "execution_count": 0,
      "outputs": [
        {
          "output_type": "execute_result",
          "data": {
            "text/plain": [
              "tensorflow.python.keras.layers.core.Flatten"
            ]
          },
          "metadata": {
            "tags": []
          },
          "execution_count": 7
        }
      ]
    },
    {
      "cell_type": "markdown",
      "metadata": {
        "id": "ag8CQ-31QYHw",
        "colab_type": "text"
      },
      "source": [
        "tf.keras.preprocessing #전처리"
      ]
    },
    {
      "cell_type": "code",
      "metadata": {
        "id": "9qiY__dTQYHy",
        "colab_type": "code",
        "colab": {}
      },
      "source": [
        "from tensorflow.keras import preprocessing"
      ],
      "execution_count": 0,
      "outputs": []
    },
    {
      "cell_type": "code",
      "metadata": {
        "id": "MpKBIxOoQYH1",
        "colab_type": "code",
        "colab": {}
      },
      "source": [
        "#image 모듈\n",
        "from tensorflow.keras.preprocessing import image"
      ],
      "execution_count": 0,
      "outputs": []
    },
    {
      "cell_type": "code",
      "metadata": {
        "id": "zD3Ln5nRQYH5",
        "colab_type": "code",
        "colab": {},
        "outputId": "137d0964-76ab-47f1-8f51-d2df9df8b1b0"
      },
      "source": [
        "#image 함수\n",
        "image.load_img #(path = str, target_size = (300, 300), ...)\n",
        "image.img_to_array #(image.load_img) #returns 3D np.array"
      ],
      "execution_count": 0,
      "outputs": [
        {
          "output_type": "execute_result",
          "data": {
            "text/plain": [
              "<function tensorflow.python.keras.preprocessing.image.img_to_array(img, data_format=None, dtype=None)>"
            ]
          },
          "metadata": {
            "tags": []
          },
          "execution_count": 11
        }
      ]
    },
    {
      "cell_type": "markdown",
      "metadata": {
        "id": "3xhNt6oLQYIA",
        "colab_type": "text"
      },
      "source": [
        "tf.keras.preprocessing.image.ImageDataGenerator #이미지 제너레이터 클래스"
      ]
    },
    {
      "cell_type": "code",
      "metadata": {
        "id": "rejUfq7HQYIC",
        "colab_type": "code",
        "colab": {}
      },
      "source": [
        "#인스턴스\n",
        "train_generator = image.ImageDataGenerator(rescale = 1./255)"
      ],
      "execution_count": 0,
      "outputs": []
    },
    {
      "cell_type": "code",
      "metadata": {
        "id": "bhonxul_QYIG",
        "colab_type": "code",
        "colab": {},
        "outputId": "2085f41e-a227-41b0-dd95-fd1d6c5dc700"
      },
      "source": [
        "#image.ImageDataGenerator 클래스의 메소드\n",
        "image.ImageDataGenerator.flow_from_directory #(directory = str, target_size = (300, 300), batch_size = 128, class_mode = 'binary')\n",
        "#directory는 sub directory가 아닌 sub의 상위 디렉토리 설정"
      ],
      "execution_count": 0,
      "outputs": [
        {
          "output_type": "execute_result",
          "data": {
            "text/plain": [
              "<function keras_preprocessing.image.image_data_generator.ImageDataGenerator.flow_from_directory(self, directory, target_size=(256, 256), color_mode='rgb', classes=None, class_mode='categorical', batch_size=32, shuffle=True, seed=None, save_to_dir=None, save_prefix='', save_format='png', follow_links=False, subset=None, interpolation='nearest')>"
            ]
          },
          "metadata": {
            "tags": []
          },
          "execution_count": 15
        }
      ]
    },
    {
      "cell_type": "markdown",
      "metadata": {
        "id": "FL0VhMKfQYIK",
        "colab_type": "text"
      },
      "source": [
        "model.fit_generator #제너레이터를 이용한 모델 훈련"
      ]
    },
    {
      "cell_type": "code",
      "metadata": {
        "id": "9HXBEuiJQYIL",
        "colab_type": "code",
        "colab": {},
        "outputId": "b6e84560-acb5-444e-8d77-d7ebc018d4bd"
      },
      "source": [
        "keras.Sequential.fit_generator#(generator,\n",
        "                              # steps_per_epoch = len(generator),\n",
        "                              # epochs = 15,\n",
        "                              # validation_data = generator인스턴스,\n",
        "                              # validation_step = len(validation_data),\n",
        "                              # verbose = {0,1,2}중 하나)"
      ],
      "execution_count": 0,
      "outputs": [
        {
          "output_type": "execute_result",
          "data": {
            "text/plain": [
              "<function tensorflow.python.keras.engine.training.Model.fit_generator(self, generator, steps_per_epoch=None, epochs=1, verbose=1, callbacks=None, validation_data=None, validation_steps=None, class_weight=None, max_queue_size=10, workers=1, use_multiprocessing=False, shuffle=True, initial_epoch=0)>"
            ]
          },
          "metadata": {
            "tags": []
          },
          "execution_count": 16
        }
      ]
    },
    {
      "cell_type": "markdown",
      "metadata": {
        "id": "K7oViMAYQYIO",
        "colab_type": "text"
      },
      "source": [
        "np"
      ]
    },
    {
      "cell_type": "code",
      "metadata": {
        "id": "6C-jmbz2QYIQ",
        "colab_type": "code",
        "colab": {}
      },
      "source": [
        "import numpy as np"
      ],
      "execution_count": 0,
      "outputs": []
    },
    {
      "cell_type": "code",
      "metadata": {
        "id": "LaRfol-bQYIT",
        "colab_type": "code",
        "colab": {},
        "outputId": "9cc5af3e-4663-45c9-fc81-4e895dd45101"
      },
      "source": [
        "#차원 추가\n",
        "np.expand_dims#(np,array, axis = int) # np.array의 axis 자리에 빈 축 axis 생성"
      ],
      "execution_count": 0,
      "outputs": [
        {
          "output_type": "execute_result",
          "data": {
            "text/plain": [
              "<function numpy.expand_dims(a, axis)>"
            ]
          },
          "metadata": {
            "tags": []
          },
          "execution_count": 18
        }
      ]
    },
    {
      "cell_type": "code",
      "metadata": {
        "id": "WndagOZ9QYIX",
        "colab_type": "code",
        "colab": {},
        "outputId": "2c1ae74d-24a4-4457-8c64-163e1e431ed4"
      },
      "source": [
        "np.vstack#(tuple of np.arrays) #arrays는 axis = 0 제외하고 같은 shape여야.\n",
        "#1D arrays경우엔 길이가 같아야\n",
        "#returns 2D이상의 array"
      ],
      "execution_count": 0,
      "outputs": [
        {
          "output_type": "execute_result",
          "data": {
            "text/plain": [
              "<function numpy.vstack(tup)>"
            ]
          },
          "metadata": {
            "tags": []
          },
          "execution_count": 19
        }
      ]
    },
    {
      "cell_type": "markdown",
      "metadata": {
        "id": "P_WD5u9NQYIa",
        "colab_type": "text"
      },
      "source": [
        "zipfile #zipfile 모듈"
      ]
    },
    {
      "cell_type": "code",
      "metadata": {
        "id": "4Km0NcGfQYIb",
        "colab_type": "code",
        "colab": {}
      },
      "source": [
        "import zipfile"
      ],
      "execution_count": 0,
      "outputs": []
    },
    {
      "cell_type": "code",
      "metadata": {
        "id": "Zx3yWDsSQYIf",
        "colab_type": "code",
        "colab": {},
        "outputId": "1c5b5d20-afb4-4400-8559-2e5a468dc688"
      },
      "source": [
        "#ZipFile 인스턴스\n",
        "zipfile.ZipFile#(file = str,\n",
        "               # mode = 'r',\n",
        "               # ...)"
      ],
      "execution_count": 0,
      "outputs": [
        {
          "output_type": "execute_result",
          "data": {
            "text/plain": [
              "zipfile.ZipFile"
            ]
          },
          "metadata": {
            "tags": []
          },
          "execution_count": 26
        }
      ]
    },
    {
      "cell_type": "code",
      "metadata": {
        "id": "Wg9MJtaIQYIi",
        "colab_type": "code",
        "colab": {}
      },
      "source": [
        "#with zipfile.ZipFile(...) as zip_ref:\n",
        "#    zip_ref.extractall(path = str)"
      ],
      "execution_count": 0,
      "outputs": []
    },
    {
      "cell_type": "markdown",
      "metadata": {
        "id": "aNCwzzD8QYIq",
        "colab_type": "text"
      },
      "source": [
        "os #os 모듈"
      ]
    },
    {
      "cell_type": "code",
      "metadata": {
        "id": "KbrmGu4dQYIs",
        "colab_type": "code",
        "colab": {},
        "outputId": "be7c3d9d-b825-496f-858d-01d08627eecf"
      },
      "source": [
        "import os\n",
        "os.listdir#(path = str) #returns path 안의 모든 파일, 폴더"
      ],
      "execution_count": 0,
      "outputs": [
        {
          "output_type": "execute_result",
          "data": {
            "text/plain": [
              "<function nt.listdir(path=None)>"
            ]
          },
          "metadata": {
            "tags": []
          },
          "execution_count": 31
        }
      ]
    },
    {
      "cell_type": "markdown",
      "metadata": {
        "id": "ZqDB49CjQYIw",
        "colab_type": "text"
      },
      "source": [
        "plt"
      ]
    },
    {
      "cell_type": "code",
      "metadata": {
        "id": "wCwAuBp-QYIx",
        "colab_type": "code",
        "colab": {}
      },
      "source": [
        "import matplotlib\n",
        "from matplotlib import pyplot as plt"
      ],
      "execution_count": 0,
      "outputs": []
    },
    {
      "cell_type": "code",
      "metadata": {
        "id": "QM63Ke2mQYI1",
        "colab_type": "code",
        "colab": {}
      },
      "source": [
        "import matplotlib.image as mpimg"
      ],
      "execution_count": 0,
      "outputs": []
    },
    {
      "cell_type": "code",
      "metadata": {
        "id": "EZ4HRI9MQYI4",
        "colab_type": "code",
        "colab": {}
      },
      "source": [
        "# Parameters for our graph; we'll output images in a 4x4 configuration\n",
        "nrows = 4\n",
        "ncols = 4\n",
        "\n",
        "# Index for iterating over images\n",
        "pic_index = 0"
      ],
      "execution_count": 0,
      "outputs": []
    },
    {
      "cell_type": "code",
      "metadata": {
        "id": "Zu-N3Pa6QYI9",
        "colab_type": "code",
        "colab": {},
        "outputId": "15c4d363-6f9f-4890-f00d-3647c25f95c9"
      },
      "source": [
        "# Set up matplotlib fig, and size it to fit 4x4 pics\n",
        "fig = plt.gcf()\n",
        "fig.set_size_inches(ncols * 4, nrows * 4)\n",
        "\n",
        "pic_index += 8\n",
        "'''\n",
        "next_horse_pix = [os.path.join(train_horse_dir, fname) \n",
        "                for fname in train_horse_names[pic_index-8:pic_index]]\n",
        "next_human_pix = [os.path.join(train_human_dir, fname) \n",
        "                for fname in train_human_names[pic_index-8:pic_index]]\n",
        "\n",
        "for i, img_path in enumerate(next_horse_pix+next_human_pix):\n",
        "  # Set up subplot; subplot indices start at 1\n",
        "  sp = plt.subplot(nrows, ncols, i + 1)\n",
        "  sp.axis('Off') # Don't show axes (or gridlines)\n",
        "\n",
        "  img = mpimg.imread(img_path)\n",
        "  plt.imshow(img)\n",
        "\n",
        "plt.show()\n",
        "'''"
      ],
      "execution_count": 0,
      "outputs": [
        {
          "output_type": "execute_result",
          "data": {
            "text/plain": [
              "\"\\nnext_horse_pix = [os.path.join(train_horse_dir, fname) \\n                for fname in train_horse_names[pic_index-8:pic_index]]\\nnext_human_pix = [os.path.join(train_human_dir, fname) \\n                for fname in train_human_names[pic_index-8:pic_index]]\\n\\nfor i, img_path in enumerate(next_horse_pix+next_human_pix):\\n  # Set up subplot; subplot indices start at 1\\n  sp = plt.subplot(nrows, ncols, i + 1)\\n  sp.axis('Off') # Don't show axes (or gridlines)\\n\\n  img = mpimg.imread(img_path)\\n  plt.imshow(img)\\n\\nplt.show()\\n\""
            ]
          },
          "metadata": {
            "tags": []
          },
          "execution_count": 35
        },
        {
          "output_type": "display_data",
          "data": {
            "text/plain": [
              "<Figure size 1152x1152 with 0 Axes>"
            ]
          },
          "metadata": {
            "tags": []
          }
        }
      ]
    },
    {
      "cell_type": "code",
      "metadata": {
        "id": "xhs4MDdeQYJC",
        "colab_type": "code",
        "colab": {}
      },
      "source": [
        ""
      ],
      "execution_count": 0,
      "outputs": []
    }
  ]
}